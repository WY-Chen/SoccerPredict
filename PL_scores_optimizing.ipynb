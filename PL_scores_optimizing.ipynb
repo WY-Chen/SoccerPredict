{
  "nbformat": 4,
  "nbformat_minor": 0,
  "metadata": {
    "colab": {
      "name": "PL_scores_optimizing.ipynb",
      "provenance": [],
      "collapsed_sections": []
    },
    "kernelspec": {
      "display_name": "Python 3",
      "name": "python3"
    },
    "language_info": {
      "name": "python"
    }
  },
  "cells": [
    {
      "cell_type": "code",
      "metadata": {
        "colab": {
          "base_uri": "https://localhost:8080/"
        },
        "id": "EVT-YudJf8mU",
        "outputId": "7c423853-a923-4f2c-ddf0-56a6fc0e982c"
      },
      "source": [
        "!python3 -m pip install pystan"
      ],
      "execution_count": 1,
      "outputs": [
        {
          "output_type": "stream",
          "name": "stdout",
          "text": [
            "Requirement already satisfied: pystan in /usr/local/lib/python3.7/dist-packages (2.19.1.1)\n",
            "Requirement already satisfied: numpy>=1.7 in /usr/local/lib/python3.7/dist-packages (from pystan) (1.19.5)\n",
            "Requirement already satisfied: Cython!=0.25.1,>=0.22 in /usr/local/lib/python3.7/dist-packages (from pystan) (0.29.24)\n"
          ]
        }
      ]
    },
    {
      "cell_type": "code",
      "metadata": {
        "id": "_CpOMNtQf0vW"
      },
      "source": [
        "import pystan\n",
        "import re\n",
        "import numpy as np\n",
        "import pandas as pd"
      ],
      "execution_count": 2,
      "outputs": []
    },
    {
      "cell_type": "code",
      "metadata": {
        "id": "j5H19vz_iU6W"
      },
      "source": [
        "# use your favourite football dataset, mine is from\n",
        "# https://fixturedownload.com/sport/football\n",
        "df2019 = pd.read_csv(\"epl-2020-GMTStandardTime.csv\")\n",
        "df2020 = pd.read_csv(\"epl-2020-GMTStandardTime.csv\")\n",
        "df = pd.concat([df2019,df2020]).dropna()"
      ],
      "execution_count": 12,
      "outputs": []
    },
    {
      "cell_type": "code",
      "metadata": {
        "colab": {
          "base_uri": "https://localhost:8080/",
          "height": 221
        },
        "id": "CnoQAeoip_on",
        "outputId": "833799c7-8e27-4712-883c-da96cb0aa417"
      },
      "source": [
        "print(df.shape)\n",
        "df.head()"
      ],
      "execution_count": 13,
      "outputs": [
        {
          "output_type": "stream",
          "name": "stdout",
          "text": [
            "(760, 7)\n"
          ]
        },
        {
          "output_type": "execute_result",
          "data": {
            "text/html": [
              "<div>\n",
              "<style scoped>\n",
              "    .dataframe tbody tr th:only-of-type {\n",
              "        vertical-align: middle;\n",
              "    }\n",
              "\n",
              "    .dataframe tbody tr th {\n",
              "        vertical-align: top;\n",
              "    }\n",
              "\n",
              "    .dataframe thead th {\n",
              "        text-align: right;\n",
              "    }\n",
              "</style>\n",
              "<table border=\"1\" class=\"dataframe\">\n",
              "  <thead>\n",
              "    <tr style=\"text-align: right;\">\n",
              "      <th></th>\n",
              "      <th>Match Number</th>\n",
              "      <th>Round Number</th>\n",
              "      <th>Date</th>\n",
              "      <th>Location</th>\n",
              "      <th>Home Team</th>\n",
              "      <th>Away Team</th>\n",
              "      <th>Result</th>\n",
              "    </tr>\n",
              "  </thead>\n",
              "  <tbody>\n",
              "    <tr>\n",
              "      <th>0</th>\n",
              "      <td>4</td>\n",
              "      <td>1</td>\n",
              "      <td>12/09/2020 12:30</td>\n",
              "      <td>Craven Cottage</td>\n",
              "      <td>Fulham</td>\n",
              "      <td>Arsenal</td>\n",
              "      <td>0 - 3</td>\n",
              "    </tr>\n",
              "    <tr>\n",
              "      <th>1</th>\n",
              "      <td>3</td>\n",
              "      <td>1</td>\n",
              "      <td>12/09/2020 15:00</td>\n",
              "      <td>Selhurst Park</td>\n",
              "      <td>Crystal Palace</td>\n",
              "      <td>Southampton</td>\n",
              "      <td>1 - 0</td>\n",
              "    </tr>\n",
              "    <tr>\n",
              "      <th>2</th>\n",
              "      <td>5</td>\n",
              "      <td>1</td>\n",
              "      <td>12/09/2020 17:30</td>\n",
              "      <td>Anfield</td>\n",
              "      <td>Liverpool</td>\n",
              "      <td>Leeds</td>\n",
              "      <td>4 - 3</td>\n",
              "    </tr>\n",
              "    <tr>\n",
              "      <th>3</th>\n",
              "      <td>8</td>\n",
              "      <td>1</td>\n",
              "      <td>12/09/2020 20:00</td>\n",
              "      <td>London Stadium</td>\n",
              "      <td>West Ham</td>\n",
              "      <td>Newcastle</td>\n",
              "      <td>0 - 2</td>\n",
              "    </tr>\n",
              "    <tr>\n",
              "      <th>4</th>\n",
              "      <td>7</td>\n",
              "      <td>1</td>\n",
              "      <td>13/09/2020 14:00</td>\n",
              "      <td>The Hawthorns</td>\n",
              "      <td>West Brom</td>\n",
              "      <td>Leicester</td>\n",
              "      <td>0 - 3</td>\n",
              "    </tr>\n",
              "  </tbody>\n",
              "</table>\n",
              "</div>"
            ],
            "text/plain": [
              "   Match Number  Round Number  ...    Away Team Result\n",
              "0             4             1  ...      Arsenal  0 - 3\n",
              "1             3             1  ...  Southampton  1 - 0\n",
              "2             5             1  ...        Leeds  4 - 3\n",
              "3             8             1  ...    Newcastle  0 - 2\n",
              "4             7             1  ...    Leicester  0 - 3\n",
              "\n",
              "[5 rows x 7 columns]"
            ]
          },
          "metadata": {},
          "execution_count": 13
        }
      ]
    },
    {
      "cell_type": "code",
      "metadata": {
        "id": "K8XV8GPWilr4"
      },
      "source": [
        "# get list of teams\n",
        "teams_list = list(set(df[\"Home Team\"].values))\n",
        "teams_dict = dict(zip(teams_list,range(1,1+len(teams_list)))) # 1-indexed for STAN"
      ],
      "execution_count": 14,
      "outputs": []
    },
    {
      "cell_type": "code",
      "metadata": {
        "id": "7ivqzeqii236"
      },
      "source": [
        "# fixture mapped to numerical team id\n",
        "fixtures = np.vstack([df[\"Home Team\"].map(teams_dict),\n",
        "                      df[\"Away Team\"].map(teams_dict)])"
      ],
      "execution_count": 16,
      "outputs": []
    },
    {
      "cell_type": "code",
      "metadata": {
        "id": "gyWlobA_jzIW"
      },
      "source": [
        "# results of the games\n",
        "results = np.vstack([df[\"Result\"].map(lambda x: int(x[0:x.find(' -')])),\n",
        "                     df[\"Result\"].map(lambda x: int(x[(x.find('- ')+2):]))])"
      ],
      "execution_count": 17,
      "outputs": []
    },
    {
      "cell_type": "code",
      "metadata": {
        "colab": {
          "base_uri": "https://localhost:8080/"
        },
        "id": "rbwCxuSxf15L",
        "outputId": "24c97876-a383-4fdf-f11b-81aafe2c146e"
      },
      "source": [
        "game_code = \"\"\"\n",
        "data {\n",
        "  int<lower=0> K;                     // number of fixtures\n",
        "  int<lower=0> T;                     // number of teams\n",
        "  int<lower=0> results[K,2];          // results in score\n",
        "  int<lower=0> fixtures[K,2];         // lookup for teams\n",
        "}\n",
        "parameters {\n",
        "  vector<lower=0,upper=15>[T] attack;     // attack ability of each team\n",
        "  vector<lower=0,upper=15>[T] defend;     // defend ability of each team\n",
        "  vector<lower=0,upper=2>[T] home_attack; // attack correction at home\n",
        "  vector<lower=0,upper=2>[T] home_defend; // defend correction at home\n",
        "  vector<lower=0, upper=1>[T] zeroprob;   // probability of noscore, regardless of opponant\n",
        "}\n",
        "transformed parameters {\n",
        "  vector[K] goal_home;\n",
        "  vector[K] goal_away;\n",
        "  for (i in 1:K){\n",
        "    goal_home[i] = fmax(0.001,attack[fixtures[i,1]]-defend[fixtures[i,2]]+home_attack[fixtures[i,1]]);\n",
        "    goal_away[i] = fmax(0.001,attack[fixtures[i,2]]-defend[fixtures[i,1]]-home_defend[fixtures[i,1]]);\n",
        "  }\n",
        "}\n",
        "model {\n",
        "  for (t in 1:T){\n",
        "    attack[t] ~ normal(5,3);\n",
        "    defend[t] ~ normal(3,3);\n",
        "    home_attack[t] ~ uniform(0,2);\n",
        "    home_defend[t] ~ uniform(0,2);\n",
        "  }\n",
        "  for (i in 1:K){\n",
        "    if (results[i,1] == 0){\n",
        "      target += log_sum_exp(bernoulli_lpmf(1 | zeroprob[fixtures[i,1]]),\n",
        "                            bernoulli_lpmf(0 | zeroprob[fixtures[i,1]])+\n",
        "                            poisson_lpmf(results[i,1]|goal_home[i]));\n",
        "    } else {\n",
        "      target += bernoulli_lpmf(0 | zeroprob[fixtures[i,1]])\n",
        "                  + poisson_lpmf(results[i,1]|goal_home[i]);\n",
        "    }\n",
        "    if (results[i,2] == 0){\n",
        "    target += log_sum_exp(bernoulli_lpmf(1 | zeroprob[fixtures[i,2]]),\n",
        "                            bernoulli_lpmf(0 | zeroprob[fixtures[i,2]])+\n",
        "                            poisson_lpmf(results[i,2]|goal_away[i]));\n",
        "    } else {\n",
        "      target += bernoulli_lpmf(0 | zeroprob[fixtures[i,2]])\n",
        "                  + poisson_lpmf(results[i,2]|goal_away[i]);\n",
        "    }\n",
        "  }\n",
        "}\n",
        "\"\"\"\n",
        "\n",
        "## Can try play with this toy data\n",
        "# game_data = {\"K\": 5,\n",
        "#              \"T\": 3,\n",
        "#              \"fixtures\": [[1,2],[1,3],[2,3],[3,1],[2,1]],\n",
        "#              \"results\": [[1,0],[1,2],[0,0],[0,4],[1,2]]}\n",
        "\n",
        "game_data = {\"K\": results.shape[1],\n",
        "             \"T\": len(teams_list),\n",
        "             \"fixtures\": np.transpose(fixtures).tolist(),\n",
        "             \"results\": np.transpose(results).tolist(),}\n",
        "\n",
        "sm = pystan.StanModel(model_code=game_code)\n",
        "fit = sm.optimizing(data=game_data, seed=42)"
      ],
      "execution_count": 95,
      "outputs": [
        {
          "output_type": "stream",
          "name": "stderr",
          "text": [
            "INFO:pystan:COMPILING THE C++ CODE FOR MODEL anon_model_8fb22eeae748b6a55cbe592e9063635f NOW.\n"
          ]
        }
      ]
    },
    {
      "cell_type": "code",
      "metadata": {
        "colab": {
          "base_uri": "https://localhost:8080/",
          "height": 669
        },
        "id": "gtRJi9IMwk5q",
        "outputId": "b9ef46ef-96d6-4fb7-8d6d-273a78fab6cf"
      },
      "source": [
        "pd.DataFrame({\"Team\":teams_list,\n",
        "              \"Away_ATT\":fit[\"attack\"],\n",
        "              \"Away_DEF\":fit[\"defend\"],\n",
        "              \"Home_ATT\":fit[\"attack\"]+fit[\"home_attack\"],\n",
        "              \"Home_DEF\":fit[\"defend\"]+fit[\"home_defend\"]\n",
        "              }\n",
        "             ).sort_values(by=\"Home_ATT\",ascending=False)"
      ],
      "execution_count": 96,
      "outputs": [
        {
          "output_type": "execute_result",
          "data": {
            "text/html": [
              "<div>\n",
              "<style scoped>\n",
              "    .dataframe tbody tr th:only-of-type {\n",
              "        vertical-align: middle;\n",
              "    }\n",
              "\n",
              "    .dataframe tbody tr th {\n",
              "        vertical-align: top;\n",
              "    }\n",
              "\n",
              "    .dataframe thead th {\n",
              "        text-align: right;\n",
              "    }\n",
              "</style>\n",
              "<table border=\"1\" class=\"dataframe\">\n",
              "  <thead>\n",
              "    <tr style=\"text-align: right;\">\n",
              "      <th></th>\n",
              "      <th>Team</th>\n",
              "      <th>Away_ATT</th>\n",
              "      <th>Away_DEF</th>\n",
              "      <th>Home_ATT</th>\n",
              "      <th>Home_DEF</th>\n",
              "    </tr>\n",
              "  </thead>\n",
              "  <tbody>\n",
              "    <tr>\n",
              "      <th>6</th>\n",
              "      <td>Man City</td>\n",
              "      <td>5.422787</td>\n",
              "      <td>3.883738</td>\n",
              "      <td>5.511655</td>\n",
              "      <td>3.950589</td>\n",
              "    </tr>\n",
              "    <tr>\n",
              "      <th>11</th>\n",
              "      <td>Man Utd</td>\n",
              "      <td>5.282596</td>\n",
              "      <td>3.343966</td>\n",
              "      <td>5.283562</td>\n",
              "      <td>3.344195</td>\n",
              "    </tr>\n",
              "    <tr>\n",
              "      <th>18</th>\n",
              "      <td>Liverpool</td>\n",
              "      <td>5.268527</td>\n",
              "      <td>3.545086</td>\n",
              "      <td>5.268889</td>\n",
              "      <td>3.547932</td>\n",
              "    </tr>\n",
              "    <tr>\n",
              "      <th>1</th>\n",
              "      <td>Leicester</td>\n",
              "      <td>5.146229</td>\n",
              "      <td>3.323450</td>\n",
              "      <td>5.146994</td>\n",
              "      <td>3.323654</td>\n",
              "    </tr>\n",
              "    <tr>\n",
              "      <th>8</th>\n",
              "      <td>Spurs</td>\n",
              "      <td>5.069944</td>\n",
              "      <td>3.438714</td>\n",
              "      <td>5.087805</td>\n",
              "      <td>3.588182</td>\n",
              "    </tr>\n",
              "    <tr>\n",
              "      <th>12</th>\n",
              "      <td>Leeds</td>\n",
              "      <td>5.034542</td>\n",
              "      <td>2.903849</td>\n",
              "      <td>5.034925</td>\n",
              "      <td>3.304829</td>\n",
              "    </tr>\n",
              "    <tr>\n",
              "      <th>2</th>\n",
              "      <td>West Ham</td>\n",
              "      <td>4.933158</td>\n",
              "      <td>3.402891</td>\n",
              "      <td>4.963083</td>\n",
              "      <td>3.541775</td>\n",
              "    </tr>\n",
              "    <tr>\n",
              "      <th>9</th>\n",
              "      <td>Southampton</td>\n",
              "      <td>4.880260</td>\n",
              "      <td>2.606156</td>\n",
              "      <td>4.896931</td>\n",
              "      <td>3.281587</td>\n",
              "    </tr>\n",
              "    <tr>\n",
              "      <th>15</th>\n",
              "      <td>Aston Villa</td>\n",
              "      <td>4.723593</td>\n",
              "      <td>3.466617</td>\n",
              "      <td>4.850644</td>\n",
              "      <td>3.467214</td>\n",
              "    </tr>\n",
              "    <tr>\n",
              "      <th>17</th>\n",
              "      <td>Chelsea</td>\n",
              "      <td>4.841145</td>\n",
              "      <td>3.626383</td>\n",
              "      <td>4.847210</td>\n",
              "      <td>3.745452</td>\n",
              "    </tr>\n",
              "    <tr>\n",
              "      <th>16</th>\n",
              "      <td>Arsenal</td>\n",
              "      <td>4.837140</td>\n",
              "      <td>3.605315</td>\n",
              "      <td>4.837642</td>\n",
              "      <td>3.605688</td>\n",
              "    </tr>\n",
              "    <tr>\n",
              "      <th>4</th>\n",
              "      <td>Newcastle</td>\n",
              "      <td>4.414254</td>\n",
              "      <td>3.114575</td>\n",
              "      <td>4.707075</td>\n",
              "      <td>3.115076</td>\n",
              "    </tr>\n",
              "    <tr>\n",
              "      <th>7</th>\n",
              "      <td>Everton</td>\n",
              "      <td>4.556702</td>\n",
              "      <td>3.326434</td>\n",
              "      <td>4.610106</td>\n",
              "      <td>3.326720</td>\n",
              "    </tr>\n",
              "    <tr>\n",
              "      <th>3</th>\n",
              "      <td>West Brom</td>\n",
              "      <td>4.601335</td>\n",
              "      <td>2.643189</td>\n",
              "      <td>4.601599</td>\n",
              "      <td>2.644911</td>\n",
              "    </tr>\n",
              "    <tr>\n",
              "      <th>0</th>\n",
              "      <td>Brighton</td>\n",
              "      <td>4.315377</td>\n",
              "      <td>3.406382</td>\n",
              "      <td>4.548148</td>\n",
              "      <td>3.486011</td>\n",
              "    </tr>\n",
              "    <tr>\n",
              "      <th>13</th>\n",
              "      <td>Wolves</td>\n",
              "      <td>4.261961</td>\n",
              "      <td>3.371434</td>\n",
              "      <td>4.456916</td>\n",
              "      <td>3.375786</td>\n",
              "    </tr>\n",
              "    <tr>\n",
              "      <th>5</th>\n",
              "      <td>Crystal Palace</td>\n",
              "      <td>4.345933</td>\n",
              "      <td>2.983596</td>\n",
              "      <td>4.348936</td>\n",
              "      <td>2.986021</td>\n",
              "    </tr>\n",
              "    <tr>\n",
              "      <th>10</th>\n",
              "      <td>Burnley</td>\n",
              "      <td>4.335088</td>\n",
              "      <td>3.346163</td>\n",
              "      <td>4.335555</td>\n",
              "      <td>3.346166</td>\n",
              "    </tr>\n",
              "    <tr>\n",
              "      <th>14</th>\n",
              "      <td>Sheffield Utd</td>\n",
              "      <td>4.025035</td>\n",
              "      <td>2.943890</td>\n",
              "      <td>4.063549</td>\n",
              "      <td>3.318651</td>\n",
              "    </tr>\n",
              "    <tr>\n",
              "      <th>19</th>\n",
              "      <td>Fulham</td>\n",
              "      <td>4.014496</td>\n",
              "      <td>3.311686</td>\n",
              "      <td>4.014601</td>\n",
              "      <td>3.312193</td>\n",
              "    </tr>\n",
              "  </tbody>\n",
              "</table>\n",
              "</div>"
            ],
            "text/plain": [
              "              Team  Away_ATT  Away_DEF  Home_ATT  Home_DEF\n",
              "6         Man City  5.422787  3.883738  5.511655  3.950589\n",
              "11         Man Utd  5.282596  3.343966  5.283562  3.344195\n",
              "18       Liverpool  5.268527  3.545086  5.268889  3.547932\n",
              "1        Leicester  5.146229  3.323450  5.146994  3.323654\n",
              "8            Spurs  5.069944  3.438714  5.087805  3.588182\n",
              "12           Leeds  5.034542  2.903849  5.034925  3.304829\n",
              "2         West Ham  4.933158  3.402891  4.963083  3.541775\n",
              "9      Southampton  4.880260  2.606156  4.896931  3.281587\n",
              "15     Aston Villa  4.723593  3.466617  4.850644  3.467214\n",
              "17         Chelsea  4.841145  3.626383  4.847210  3.745452\n",
              "16         Arsenal  4.837140  3.605315  4.837642  3.605688\n",
              "4        Newcastle  4.414254  3.114575  4.707075  3.115076\n",
              "7          Everton  4.556702  3.326434  4.610106  3.326720\n",
              "3        West Brom  4.601335  2.643189  4.601599  2.644911\n",
              "0         Brighton  4.315377  3.406382  4.548148  3.486011\n",
              "13          Wolves  4.261961  3.371434  4.456916  3.375786\n",
              "5   Crystal Palace  4.345933  2.983596  4.348936  2.986021\n",
              "10         Burnley  4.335088  3.346163  4.335555  3.346166\n",
              "14   Sheffield Utd  4.025035  2.943890  4.063549  3.318651\n",
              "19          Fulham  4.014496  3.311686  4.014601  3.312193"
            ]
          },
          "metadata": {},
          "execution_count": 96
        }
      ]
    },
    {
      "cell_type": "code",
      "metadata": {
        "id": "OeqcGgiCkfyS"
      },
      "source": [
        "# sample a game\n",
        "def game(hometeam, awayteam, fit, n=1):\n",
        "  ht_index = teams_dict[hometeam]-1\n",
        "  at_index = teams_dict[awayteam]-1\n",
        "  scores = np.unique(np.transpose(np.vstack(\n",
        "      [\n",
        "       np.random.poisson(\n",
        "      fit[\"attack\"][ht_index]+\n",
        "      fit[\"home_attack\"][ht_index]-\n",
        "      fit[\"defend\"][at_index],n\n",
        "  ),\n",
        "  np.random.poisson(\n",
        "      fit[\"attack\"][at_index]-\n",
        "      fit[\"home_defend\"][ht_index]-\n",
        "      fit[\"defend\"][ht_index],n\n",
        "  )\n",
        "      ]\n",
        "  )),axis=0,return_counts=True)\n",
        "  return {\n",
        "      \"most_likely_score\": scores[0][np.argmax(scores[1])],\n",
        "      \"most_likely_prob\":np.max(scores[1])/n,\n",
        "      \"home_win_prob\":np.sum([scores[1][i] if \n",
        "                              scores[0][i][0]>scores[0][i][1] else \n",
        "                              0 for i in range(len(scores[0]))])/n,\n",
        "      \"draw_prob\":np.sum([scores[1][i] if \n",
        "                              scores[0][i][0]==scores[0][i][1] else \n",
        "                              0 for i in range(len(scores[0]))])/n,\n",
        "      \"away_win_prob\":np.sum([scores[1][i] if \n",
        "                              scores[0][i][0]<scores[0][i][1] else \n",
        "                              0 for i in range(len(scores[0]))])/n,\n",
        "  }\n",
        "  "
      ],
      "execution_count": 97,
      "outputs": []
    },
    {
      "cell_type": "code",
      "metadata": {
        "id": "t5xRGtVllWoe"
      },
      "source": [
        "gameresult = game(\"Everton\",\"Spurs\",fit,1000)"
      ],
      "execution_count": 98,
      "outputs": []
    },
    {
      "cell_type": "code",
      "metadata": {
        "colab": {
          "base_uri": "https://localhost:8080/"
        },
        "id": "3f7q5QGjI7NJ",
        "outputId": "f275a5a3-9a4a-4b18-cb72-c85f85c6517c"
      },
      "source": [
        "gameresult"
      ],
      "execution_count": 99,
      "outputs": [
        {
          "output_type": "execute_result",
          "data": {
            "text/plain": [
              "{'away_win_prob': 0.551,\n",
              " 'draw_prob': 0.214,\n",
              " 'home_win_prob': 0.235,\n",
              " 'most_likely_prob': 0.11,\n",
              " 'most_likely_score': array([1, 2])}"
            ]
          },
          "metadata": {},
          "execution_count": 99
        }
      ]
    },
    {
      "cell_type": "code",
      "metadata": {
        "id": "K17X_LQYJXZE"
      },
      "source": [
        ""
      ],
      "execution_count": null,
      "outputs": []
    }
  ]
}